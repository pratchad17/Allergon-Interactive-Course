{
  "cells": [
    {
      "cell_type": "markdown",
      "metadata": {
        "id": "view-in-github",
        "colab_type": "text"
      },
      "source": [
        "<a href=\"https://colab.research.google.com/github/pratchad17/Allergon-Interactive-Course/blob/main/Workshop%20Week%203.ipynb\" target=\"_parent\"><img src=\"https://colab.research.google.com/assets/colab-badge.svg\" alt=\"Open In Colab\"/></a>"
      ]
    },
    {
      "cell_type": "markdown",
      "metadata": {
        "id": "wrrkHn9c-axD"
      },
      "source": [
        "The goal this week is to pratice using Markdown to write descriptive text in notebooks and then look at Python data structures including the pandas module that supports data structures designed for handling the kind of data we'll be working with.  \n",
        "\n",
        "There is probably too much work to complete here in the workshop session, but please use this notebook after the workshop to practice your Python.  Remember to commit your changes to git as you go and push back to Github when you are done."
      ]
    },
    {
      "cell_type": "code",
      "execution_count": null,
      "metadata": {
        "id": "EbssjcXf-axF"
      },
      "outputs": [],
      "source": [
        "student_name = \"Safkat Hasin Alavi\"\n",
        "student_id = \"48726591\""
      ]
    },
    {
      "cell_type": "markdown",
      "source": [],
      "metadata": {
        "id": "gNshT9ACAGtv"
      }
    },
    {
      "cell_type": "markdown",
      "metadata": {
        "id": "XmBw-LdD-axG"
      },
      "source": [
        "## Markdown Practice\n",
        "\n",
        "Complete this section as per the instructions in the iLearn practical page.  Add the required cells below this one."
      ]
    },
    {
      "cell_type": "markdown",
      "source": [],
      "metadata": {
        "id": "wHMU_JS5AIHX"
      }
    },
    {
      "cell_type": "markdown",
      "metadata": {
        "id": "62HANBbI-axG"
      },
      "source": [
        "## Lists and Dictionaries\n",
        "\n",
        "First we look at some built in Python data structures: lists and dictionaries.\n",
        "\n",
        "A list is a sequence of things, unlike strongly typed languages (Java, C#) a list can contain a mixture of different types - there is no type for a list of integers or a list of lists.   Here are some lists:"
      ]
    },
    {
      "cell_type": "code",
      "execution_count": 2,
      "metadata": {
        "id": "uaSjpbmR-axH"
      },
      "outputs": [],
      "source": [
        "ages = [12, 99, 51, 3, 55]\n",
        "names = ['steve', 'jim', 'mary', 'carrie', 'zin']\n",
        "stuff = [12, 'eighteen', 6, ['another', 'list']]"
      ]
    },
    {
      "cell_type": "markdown",
      "metadata": {
        "id": "zh_QD9ZJ-axH"
      },
      "source": [
        "1. write code to print the first and third elements of each list\n",
        "2. write code to select and print everything except the first element of each list\n",
        "3. write a for loop that prints each element of the 'names' list"
      ]
    },
    {
      "cell_type": "code",
      "execution_count": 5,
      "metadata": {
        "colab": {
          "base_uri": "https://localhost:8080/"
        },
        "id": "8gSTlNXv-axH",
        "outputId": "1a0157fd-ab2e-4a60-e505-3b028ec273e0"
      },
      "outputs": [
        {
          "output_type": "stream",
          "name": "stdout",
          "text": [
            "The first element is  12 51\n",
            "steve mary\n"
          ]
        }
      ],
      "source": [
        "# 1st task\n",
        "print(\"The first element is \",ages[0],ages[2])\n",
        "print(names[0],names[2])"
      ]
    },
    {
      "cell_type": "code",
      "source": [
        "#2nd Task\n",
        "print (ages[1:]) #EXCLUDING THE 1ST ELEMENT\n",
        "print (names[1:])\n",
        "print (stuff[1:])"
      ],
      "metadata": {
        "colab": {
          "base_uri": "https://localhost:8080/"
        },
        "id": "HdGV3C-hBfxs",
        "outputId": "a0c1fcb7-9cca-408f-bc85-5322c7a379c6"
      },
      "execution_count": 7,
      "outputs": [
        {
          "output_type": "stream",
          "name": "stdout",
          "text": [
            "[99, 51, 3, 55]\n",
            "['jim', 'mary', 'carrie', 'zin']\n",
            "['eighteen', 6, ['another', 'list']]\n"
          ]
        }
      ]
    },
    {
      "cell_type": "code",
      "source": [
        "#3rd Task\n",
        "for word in names:\n",
        "  print(word); #here word is just a placeholder\n",
        "\n",
        "for age in ages:\n",
        "  print(age)"
      ],
      "metadata": {
        "colab": {
          "base_uri": "https://localhost:8080/"
        },
        "id": "5MkKnTfNCE79",
        "outputId": "d27e5e26-0e01-4346-f10e-f3583f93b07a"
      },
      "execution_count": 10,
      "outputs": [
        {
          "output_type": "stream",
          "name": "stdout",
          "text": [
            "steve\n",
            "jim\n",
            "mary\n",
            "carrie\n",
            "zin\n",
            "12\n",
            "99\n",
            "51\n",
            "3\n",
            "55\n"
          ]
        }
      ]
    },
    {
      "cell_type": "code",
      "source": [],
      "metadata": {
        "id": "HjyIIaKcEnQ9"
      },
      "execution_count": 10,
      "outputs": []
    },
    {
      "cell_type": "markdown",
      "metadata": {
        "id": "Yj35s6YT-axH"
      },
      "source": [
        "A dictionary is an associative array - it associates a value (any Python data type) with a key. The key is usually a string but can be any immutable type (string, number, tuple).  Here's some code that counts the occurence of words in a string.  It stores the count for each word in a dictionary using the word as a key. If the word is already stored in the dictionary, it adds one to the count, if not, it initialises the count to one.  \n",
        "\n",
        "The second for loop iterates over the keys in the dictionary and prints one line per entry.\n",
        "\n",
        "Modify this example to be a bit smarter:\n",
        "- make sure that punctuation characters are not included as parts of a word, be careful with hyphens - should they be included or not?\n",
        "- make the count use the lowercase version of a word, so that 'The' and 'the' are counted as the same word\n",
        "- **Challenge**: find the first and second most frequent words in the text\n",
        "- **Challenge**: take your code and write it as a function that takes a string and returns a list of words with their counts in order"
      ]
    },
    {
      "cell_type": "code",
      "execution_count": 11,
      "metadata": {
        "colab": {
          "base_uri": "https://localhost:8080/"
        },
        "id": "kf78y_c--axH",
        "outputId": "2a39cfdf-06b1-41c9-a46b-974aeb2dc0be"
      },
      "outputs": [
        {
          "output_type": "stream",
          "name": "stdout",
          "text": [
            "This 1\n",
            "unit 3\n",
            "introduces 1\n",
            "students 1\n",
            "to 4\n",
            "the 5\n",
            "fundamental 1\n",
            "techniques 1\n",
            "and 3\n",
            "tools 2\n",
            "of 3\n",
            "data 5\n",
            "science, 1\n",
            "such 1\n",
            "as 1\n",
            "graphical 1\n",
            "display 1\n",
            "data, 1\n",
            "predictive 1\n",
            "models, 1\n",
            "evaluation 1\n",
            "methodologies, 1\n",
            "regression, 1\n",
            "classification 1\n",
            "clustering. 1\n",
            "The 1\n",
            "provides 1\n",
            "practical 1\n",
            "experience 1\n",
            "applying 1\n",
            "these 2\n",
            "methods 3\n",
            "using 1\n",
            "industry-standard 1\n",
            "software 1\n",
            "real-world 2\n",
            "sets. 1\n",
            "Students 1\n",
            "who 1\n",
            "have 2\n",
            "completed 1\n",
            "this 1\n",
            "will 1\n",
            "be 1\n",
            "able 1\n",
            "identify 1\n",
            "which 1\n",
            "science 1\n",
            "are 1\n",
            "most 1\n",
            "appropriate 1\n",
            "for 1\n",
            "a 1\n",
            "set, 2\n",
            "apply 1\n",
            "interpret 1\n",
            "results 1\n",
            "analysis 1\n",
            "they 1\n",
            "performed. 1\n"
          ]
        }
      ],
      "source": [
        "description = \"\"\"This unit introduces students to the fundamental techniques and\n",
        "tools of data science, such as the graphical display of data,\n",
        "predictive models, evaluation methodologies, regression,\n",
        "classification and clustering. The unit provides practical\n",
        "experience applying these methods using industry-standard\n",
        "software tools to real-world data sets. Students who have\n",
        "completed this unit will be able to identify which data\n",
        "science methods are most appropriate for a real-world data\n",
        "set, apply these methods to the data set, and interpret the\n",
        "results of the analysis they have performed. \"\"\"\n",
        "\n",
        "count = dict()\n",
        "\n",
        "#this for loop is for word counting\n",
        "for word in description.split():\n",
        "    if word in count:\n",
        "        count[word] += 1\n",
        "    else:\n",
        "        count[word] = 1\n",
        "\n",
        "# this loop is for printing all the key-value pair in the dictionary\n",
        "\n",
        "for word in count:\n",
        "    print(word, count[word])"
      ]
    },
    {
      "cell_type": "code",
      "source": [
        "# 1st . switch all to lower/upper cases\n",
        "print(description.lower())"
      ],
      "metadata": {
        "colab": {
          "base_uri": "https://localhost:8080/"
        },
        "id": "ttFi7N9WGrrG",
        "outputId": "37b9724c-a40c-4713-c928-d68e7b5a163d"
      },
      "execution_count": 13,
      "outputs": [
        {
          "output_type": "stream",
          "name": "stdout",
          "text": [
            "this unit introduces students to the fundamental techniques and \n",
            "tools of data science, such as the graphical display of data, \n",
            "predictive models, evaluation methodologies, regression, \n",
            "classification and clustering. the unit provides practical \n",
            "experience applying these methods using industry-standard \n",
            "software tools to real-world data sets. students who have \n",
            "completed this unit will be able to identify which data \n",
            "science methods are most appropriate for a real-world data \n",
            "set, apply these methods to the data set, and interpret the \n",
            "results of the analysis they have performed. \n"
          ]
        }
      ]
    },
    {
      "cell_type": "code",
      "source": [
        "#2nd. method 1, regular expression\n",
        "import re\n",
        "desc = re.sub(r'[^\\s\\w]', '', description)\n",
        "\n",
        "print(desc)\n",
        "\n",
        "#2. method 2, method replace()\n",
        "no_comma= description.replace(',' , '')\n",
        "print(no_comma)\n",
        "print()\n",
        "\n",
        "\n",
        "no_comma_no_period= description.replace('.' , '')\n",
        "print(no_comma_no_period)\n",
        "print()\n",
        "\n",
        "clean=no_comma_no_period.replace('-','')\n",
        "print(clean)\n",
        "\n",
        "\n",
        "#2.method 2, method replace(),combined\n",
        "clean_one_line = description.replace(',' ,'').replace('.' , '').replace('-','').lower()\n",
        "print(clean_one_line)"
      ],
      "metadata": {
        "colab": {
          "base_uri": "https://localhost:8080/"
        },
        "id": "24ZxSls0HJAl",
        "outputId": "41e2e214-9235-42b3-a590-f6d6fa4fcf70"
      },
      "execution_count": 20,
      "outputs": [
        {
          "output_type": "stream",
          "name": "stdout",
          "text": [
            "This unit introduces students to the fundamental techniques and \n",
            "tools of data science such as the graphical display of data \n",
            "predictive models evaluation methodologies regression \n",
            "classification and clustering The unit provides practical \n",
            "experience applying these methods using industrystandard \n",
            "software tools to realworld data sets Students who have \n",
            "completed this unit will be able to identify which data \n",
            "science methods are most appropriate for a realworld data \n",
            "set apply these methods to the data set and interpret the \n",
            "results of the analysis they have performed \n",
            "This unit introduces students to the fundamental techniques and \n",
            "tools of data science such as the graphical display of data \n",
            "predictive models evaluation methodologies regression \n",
            "classification and clustering. The unit provides practical \n",
            "experience applying these methods using industry-standard \n",
            "software tools to real-world data sets. Students who have \n",
            "completed this unit will be able to identify which data \n",
            "science methods are most appropriate for a real-world data \n",
            "set apply these methods to the data set and interpret the \n",
            "results of the analysis they have performed. \n",
            "\n",
            "This unit introduces students to the fundamental techniques and \n",
            "tools of data science, such as the graphical display of data, \n",
            "predictive models, evaluation methodologies, regression, \n",
            "classification and clustering The unit provides practical \n",
            "experience applying these methods using industry-standard \n",
            "software tools to real-world data sets Students who have \n",
            "completed this unit will be able to identify which data \n",
            "science methods are most appropriate for a real-world data \n",
            "set, apply these methods to the data set, and interpret the \n",
            "results of the analysis they have performed \n",
            "\n",
            "This unit introduces students to the fundamental techniques and \n",
            "tools of data science, such as the graphical display of data, \n",
            "predictive models, evaluation methodologies, regression, \n",
            "classification and clustering The unit provides practical \n",
            "experience applying these methods using industrystandard \n",
            "software tools to realworld data sets Students who have \n",
            "completed this unit will be able to identify which data \n",
            "science methods are most appropriate for a realworld data \n",
            "set, apply these methods to the data set, and interpret the \n",
            "results of the analysis they have performed \n",
            "this unit introduces students to the fundamental techniques and \n",
            "tools of data science such as the graphical display of data \n",
            "predictive models evaluation methodologies regression \n",
            "classification and clustering the unit provides practical \n",
            "experience applying these methods using industrystandard \n",
            "software tools to realworld data sets students who have \n",
            "completed this unit will be able to identify which data \n",
            "science methods are most appropriate for a realworld data \n",
            "set apply these methods to the data set and interpret the \n",
            "results of the analysis they have performed \n"
          ]
        }
      ]
    },
    {
      "cell_type": "code",
      "source": [
        "description = \"\"\"This unit introduces students to the fundamental techniques and\n",
        "tools of data science, such as the graphical display of data,\n",
        "predictive models, evaluation methodologies, regression,\n",
        "classification and clustering. The unit provides practical\n",
        "experience applying these methods using industry-standard\n",
        "software tools to real-world data sets. Students who have\n",
        "completed this unit will be able to identify which data\n",
        "science methods are most appropriate for a real-world data\n",
        "set, apply these methods to the data set, and interpret the\n",
        "results of the analysis they have performed. \"\"\"\n",
        "\n",
        "\n",
        "clean_description = description.lower().replace(',' , '').replace('.','').replace('-','')\n",
        "\n",
        "count = dict()\n",
        "\n",
        "#this for loop is for word counting\n",
        "for word in description.split():\n",
        "    if word in count:\n",
        "        count[word] += 1\n",
        "    else:\n",
        "        count[word] = 1\n",
        "\n",
        "# this loop is for printing all the key-value pair in the dictionary\n",
        "\n",
        "for word in count:\n",
        "    print(word, count[word])\n",
        "\n",
        "#challenge 1\n",
        "sorted_count = sorted(count.items(), key=lambda x:x[1], reverse=True)\n",
        "#print(sorted_count)\n",
        "print(sorted_count[:5])"
      ],
      "metadata": {
        "colab": {
          "base_uri": "https://localhost:8080/"
        },
        "id": "jSA8Div6OruG",
        "outputId": "dc0b7ff7-bf44-4e7d-b41e-e4c573c7b657"
      },
      "execution_count": 25,
      "outputs": [
        {
          "output_type": "stream",
          "name": "stdout",
          "text": [
            "This 1\n",
            "unit 3\n",
            "introduces 1\n",
            "students 1\n",
            "to 4\n",
            "the 5\n",
            "fundamental 1\n",
            "techniques 1\n",
            "and 3\n",
            "tools 2\n",
            "of 3\n",
            "data 5\n",
            "science, 1\n",
            "such 1\n",
            "as 1\n",
            "graphical 1\n",
            "display 1\n",
            "data, 1\n",
            "predictive 1\n",
            "models, 1\n",
            "evaluation 1\n",
            "methodologies, 1\n",
            "regression, 1\n",
            "classification 1\n",
            "clustering. 1\n",
            "The 1\n",
            "provides 1\n",
            "practical 1\n",
            "experience 1\n",
            "applying 1\n",
            "these 2\n",
            "methods 3\n",
            "using 1\n",
            "industry-standard 1\n",
            "software 1\n",
            "real-world 2\n",
            "sets. 1\n",
            "Students 1\n",
            "who 1\n",
            "have 2\n",
            "completed 1\n",
            "this 1\n",
            "will 1\n",
            "be 1\n",
            "able 1\n",
            "identify 1\n",
            "which 1\n",
            "science 1\n",
            "are 1\n",
            "most 1\n",
            "appropriate 1\n",
            "for 1\n",
            "a 1\n",
            "set, 2\n",
            "apply 1\n",
            "interpret 1\n",
            "results 1\n",
            "analysis 1\n",
            "they 1\n",
            "performed. 1\n",
            "[('the', 5), ('data', 5), ('to', 4), ('unit', 3), ('and', 3)]\n"
          ]
        }
      ]
    },
    {
      "cell_type": "code",
      "source": [
        "#challenge 2 make it function\n",
        "\n",
        "def wordCounter(myString):\n",
        "  cleanString=myString.lower().replace(',', ''.replace('.','').replace('-', ''))\n",
        "\n",
        "  count = dict()\n",
        "  for word in description.split():#counting words\n",
        "    if word in count:\n",
        "        count[word] += 1\n",
        "    else:\n",
        "        count[word] = 1\n",
        "\n",
        "\n",
        "  sorted_count = sorted(count.items(), key=lambda x:x[1], reverse=True)   #sorted\n",
        "\n",
        "  return sorted_count\n",
        "\n",
        "mySortedCount= wordCounter(description)\n",
        "\n",
        "print(mySortedCount)\n",
        "print(mySortedCount[:5])\n",
        "\n"
      ],
      "metadata": {
        "id": "UIoTb1HhRO58",
        "outputId": "1f157ce6-ff85-4d1a-9fae-5db81e195f2a",
        "colab": {
          "base_uri": "https://localhost:8080/"
        }
      },
      "execution_count": 26,
      "outputs": [
        {
          "output_type": "stream",
          "name": "stdout",
          "text": [
            "[('the', 5), ('data', 5), ('to', 4), ('unit', 3), ('and', 3), ('of', 3), ('methods', 3), ('tools', 2), ('these', 2), ('real-world', 2), ('have', 2), ('set,', 2), ('This', 1), ('introduces', 1), ('students', 1), ('fundamental', 1), ('techniques', 1), ('science,', 1), ('such', 1), ('as', 1), ('graphical', 1), ('display', 1), ('data,', 1), ('predictive', 1), ('models,', 1), ('evaluation', 1), ('methodologies,', 1), ('regression,', 1), ('classification', 1), ('clustering.', 1), ('The', 1), ('provides', 1), ('practical', 1), ('experience', 1), ('applying', 1), ('using', 1), ('industry-standard', 1), ('software', 1), ('sets.', 1), ('Students', 1), ('who', 1), ('completed', 1), ('this', 1), ('will', 1), ('be', 1), ('able', 1), ('identify', 1), ('which', 1), ('science', 1), ('are', 1), ('most', 1), ('appropriate', 1), ('for', 1), ('a', 1), ('apply', 1), ('interpret', 1), ('results', 1), ('analysis', 1), ('they', 1), ('performed.', 1)]\n",
            "[('the', 5), ('data', 5), ('to', 4), ('unit', 3), ('and', 3)]\n"
          ]
        }
      ]
    },
    {
      "cell_type": "markdown",
      "metadata": {
        "id": "pTKS-Ss--axI"
      },
      "source": [
        "## Pandas Data Frames\n",
        "\n",
        "[Pandas](https://pandas.pydata.org) is a Python module that provides some important data structures for Data Science work and a large collection of methods for data analysis.\n",
        "\n",
        "The two main data structures are the [Series]() and [DataFrame](http://pandas.pydata.org/pandas-docs/stable/dsintro.html#dataframe).  \n",
        "\n",
        "A Series is a one dimensional array of data, but unlike the Python list the data is indexed - the index is like the dictionary key, any immutable value like a number or string.  You can use the label to select elements from the series as well as positional values.  \n",
        "\n",
        "A DataFrame is analogous to a spreadsheet - a two dimensional table of data with indexed rows and named columns.\n",
        "\n",
        "You should read up on these and follow the examples in the text.  Here are a few exercises to complete with data frames."
      ]
    },
    {
      "cell_type": "markdown",
      "metadata": {
        "id": "fjqRyX87-axI"
      },
      "source": [
        "You are given three csv files containing sample data."
      ]
    },
    {
      "cell_type": "code",
      "execution_count": 27,
      "metadata": {
        "id": "HRIY9QKe-axI"
      },
      "outputs": [],
      "source": [
        "import pandas as pd\n",
        "import numpy as np\n",
        "import matplotlib.pyplot as plt\n",
        "%matplotlib inline\n",
        "\n",
        "ds1 = 'ds1.csv'\n",
        "ds2 = 'ds2.csv'\n",
        "ds3 = 'ds3.csv'"
      ]
    },
    {
      "cell_type": "markdown",
      "metadata": {
        "id": "edYhBeQn-axI"
      },
      "source": [
        "Write code below to read one of these data files into a pandas data frame and:\n",
        "- show the first few rows: .head\n",
        "- find the summary data for each column: .describe\n",
        "- select just those rows where the value of x and y is over 50\n",
        "- select the column 'x' and create a series\n",
        "- plot the 'x' series as a line graph\n",
        "- plot the dataframe as a scatterplot\n",
        "\n",
        "Once you have the code for this, you can change the file you use for input of the data (ds2, ds3) and re-run the following cells to see the different output that is generated"
      ]
    },
    {
      "cell_type": "code",
      "execution_count": 32,
      "metadata": {
        "colab": {
          "base_uri": "https://localhost:8080/",
          "height": 300
        },
        "id": "MGk9Pv3v-axI",
        "outputId": "7c883f42-3a1d-4fb6-ea91-fb4a657131e6"
      },
      "outputs": [
        {
          "output_type": "execute_result",
          "data": {
            "text/plain": [
              "                x           y\n",
              "count  142.000000  142.000000\n",
              "mean    54.263273   47.832253\n",
              "std     16.765142   26.935403\n",
              "min     22.307700    2.948700\n",
              "25%     44.102600   25.288450\n",
              "50%     53.333300   46.025600\n",
              "75%     64.743600   68.525675\n",
              "max     98.205100   99.487200"
            ],
            "text/html": [
              "\n",
              "  <div id=\"df-ddf8f5c4-7c95-4204-adee-c3e828371365\" class=\"colab-df-container\">\n",
              "    <div>\n",
              "<style scoped>\n",
              "    .dataframe tbody tr th:only-of-type {\n",
              "        vertical-align: middle;\n",
              "    }\n",
              "\n",
              "    .dataframe tbody tr th {\n",
              "        vertical-align: top;\n",
              "    }\n",
              "\n",
              "    .dataframe thead th {\n",
              "        text-align: right;\n",
              "    }\n",
              "</style>\n",
              "<table border=\"1\" class=\"dataframe\">\n",
              "  <thead>\n",
              "    <tr style=\"text-align: right;\">\n",
              "      <th></th>\n",
              "      <th>x</th>\n",
              "      <th>y</th>\n",
              "    </tr>\n",
              "  </thead>\n",
              "  <tbody>\n",
              "    <tr>\n",
              "      <th>count</th>\n",
              "      <td>142.000000</td>\n",
              "      <td>142.000000</td>\n",
              "    </tr>\n",
              "    <tr>\n",
              "      <th>mean</th>\n",
              "      <td>54.263273</td>\n",
              "      <td>47.832253</td>\n",
              "    </tr>\n",
              "    <tr>\n",
              "      <th>std</th>\n",
              "      <td>16.765142</td>\n",
              "      <td>26.935403</td>\n",
              "    </tr>\n",
              "    <tr>\n",
              "      <th>min</th>\n",
              "      <td>22.307700</td>\n",
              "      <td>2.948700</td>\n",
              "    </tr>\n",
              "    <tr>\n",
              "      <th>25%</th>\n",
              "      <td>44.102600</td>\n",
              "      <td>25.288450</td>\n",
              "    </tr>\n",
              "    <tr>\n",
              "      <th>50%</th>\n",
              "      <td>53.333300</td>\n",
              "      <td>46.025600</td>\n",
              "    </tr>\n",
              "    <tr>\n",
              "      <th>75%</th>\n",
              "      <td>64.743600</td>\n",
              "      <td>68.525675</td>\n",
              "    </tr>\n",
              "    <tr>\n",
              "      <th>max</th>\n",
              "      <td>98.205100</td>\n",
              "      <td>99.487200</td>\n",
              "    </tr>\n",
              "  </tbody>\n",
              "</table>\n",
              "</div>\n",
              "    <div class=\"colab-df-buttons\">\n",
              "\n",
              "  <div class=\"colab-df-container\">\n",
              "    <button class=\"colab-df-convert\" onclick=\"convertToInteractive('df-ddf8f5c4-7c95-4204-adee-c3e828371365')\"\n",
              "            title=\"Convert this dataframe to an interactive table.\"\n",
              "            style=\"display:none;\">\n",
              "\n",
              "  <svg xmlns=\"http://www.w3.org/2000/svg\" height=\"24px\" viewBox=\"0 -960 960 960\">\n",
              "    <path d=\"M120-120v-720h720v720H120Zm60-500h600v-160H180v160Zm220 220h160v-160H400v160Zm0 220h160v-160H400v160ZM180-400h160v-160H180v160Zm440 0h160v-160H620v160ZM180-180h160v-160H180v160Zm440 0h160v-160H620v160Z\"/>\n",
              "  </svg>\n",
              "    </button>\n",
              "\n",
              "  <style>\n",
              "    .colab-df-container {\n",
              "      display:flex;\n",
              "      gap: 12px;\n",
              "    }\n",
              "\n",
              "    .colab-df-convert {\n",
              "      background-color: #E8F0FE;\n",
              "      border: none;\n",
              "      border-radius: 50%;\n",
              "      cursor: pointer;\n",
              "      display: none;\n",
              "      fill: #1967D2;\n",
              "      height: 32px;\n",
              "      padding: 0 0 0 0;\n",
              "      width: 32px;\n",
              "    }\n",
              "\n",
              "    .colab-df-convert:hover {\n",
              "      background-color: #E2EBFA;\n",
              "      box-shadow: 0px 1px 2px rgba(60, 64, 67, 0.3), 0px 1px 3px 1px rgba(60, 64, 67, 0.15);\n",
              "      fill: #174EA6;\n",
              "    }\n",
              "\n",
              "    .colab-df-buttons div {\n",
              "      margin-bottom: 4px;\n",
              "    }\n",
              "\n",
              "    [theme=dark] .colab-df-convert {\n",
              "      background-color: #3B4455;\n",
              "      fill: #D2E3FC;\n",
              "    }\n",
              "\n",
              "    [theme=dark] .colab-df-convert:hover {\n",
              "      background-color: #434B5C;\n",
              "      box-shadow: 0px 1px 3px 1px rgba(0, 0, 0, 0.15);\n",
              "      filter: drop-shadow(0px 1px 2px rgba(0, 0, 0, 0.3));\n",
              "      fill: #FFFFFF;\n",
              "    }\n",
              "  </style>\n",
              "\n",
              "    <script>\n",
              "      const buttonEl =\n",
              "        document.querySelector('#df-ddf8f5c4-7c95-4204-adee-c3e828371365 button.colab-df-convert');\n",
              "      buttonEl.style.display =\n",
              "        google.colab.kernel.accessAllowed ? 'block' : 'none';\n",
              "\n",
              "      async function convertToInteractive(key) {\n",
              "        const element = document.querySelector('#df-ddf8f5c4-7c95-4204-adee-c3e828371365');\n",
              "        const dataTable =\n",
              "          await google.colab.kernel.invokeFunction('convertToInteractive',\n",
              "                                                    [key], {});\n",
              "        if (!dataTable) return;\n",
              "\n",
              "        const docLinkHtml = 'Like what you see? Visit the ' +\n",
              "          '<a target=\"_blank\" href=https://colab.research.google.com/notebooks/data_table.ipynb>data table notebook</a>'\n",
              "          + ' to learn more about interactive tables.';\n",
              "        element.innerHTML = '';\n",
              "        dataTable['output_type'] = 'display_data';\n",
              "        await google.colab.output.renderOutput(dataTable, element);\n",
              "        const docLink = document.createElement('div');\n",
              "        docLink.innerHTML = docLinkHtml;\n",
              "        element.appendChild(docLink);\n",
              "      }\n",
              "    </script>\n",
              "  </div>\n",
              "\n",
              "\n",
              "<div id=\"df-437def80-69e0-4ac8-a9d2-c47d21ac5414\">\n",
              "  <button class=\"colab-df-quickchart\" onclick=\"quickchart('df-437def80-69e0-4ac8-a9d2-c47d21ac5414')\"\n",
              "            title=\"Suggest charts\"\n",
              "            style=\"display:none;\">\n",
              "\n",
              "<svg xmlns=\"http://www.w3.org/2000/svg\" height=\"24px\"viewBox=\"0 0 24 24\"\n",
              "     width=\"24px\">\n",
              "    <g>\n",
              "        <path d=\"M19 3H5c-1.1 0-2 .9-2 2v14c0 1.1.9 2 2 2h14c1.1 0 2-.9 2-2V5c0-1.1-.9-2-2-2zM9 17H7v-7h2v7zm4 0h-2V7h2v10zm4 0h-2v-4h2v4z\"/>\n",
              "    </g>\n",
              "</svg>\n",
              "  </button>\n",
              "\n",
              "<style>\n",
              "  .colab-df-quickchart {\n",
              "      --bg-color: #E8F0FE;\n",
              "      --fill-color: #1967D2;\n",
              "      --hover-bg-color: #E2EBFA;\n",
              "      --hover-fill-color: #174EA6;\n",
              "      --disabled-fill-color: #AAA;\n",
              "      --disabled-bg-color: #DDD;\n",
              "  }\n",
              "\n",
              "  [theme=dark] .colab-df-quickchart {\n",
              "      --bg-color: #3B4455;\n",
              "      --fill-color: #D2E3FC;\n",
              "      --hover-bg-color: #434B5C;\n",
              "      --hover-fill-color: #FFFFFF;\n",
              "      --disabled-bg-color: #3B4455;\n",
              "      --disabled-fill-color: #666;\n",
              "  }\n",
              "\n",
              "  .colab-df-quickchart {\n",
              "    background-color: var(--bg-color);\n",
              "    border: none;\n",
              "    border-radius: 50%;\n",
              "    cursor: pointer;\n",
              "    display: none;\n",
              "    fill: var(--fill-color);\n",
              "    height: 32px;\n",
              "    padding: 0;\n",
              "    width: 32px;\n",
              "  }\n",
              "\n",
              "  .colab-df-quickchart:hover {\n",
              "    background-color: var(--hover-bg-color);\n",
              "    box-shadow: 0 1px 2px rgba(60, 64, 67, 0.3), 0 1px 3px 1px rgba(60, 64, 67, 0.15);\n",
              "    fill: var(--button-hover-fill-color);\n",
              "  }\n",
              "\n",
              "  .colab-df-quickchart-complete:disabled,\n",
              "  .colab-df-quickchart-complete:disabled:hover {\n",
              "    background-color: var(--disabled-bg-color);\n",
              "    fill: var(--disabled-fill-color);\n",
              "    box-shadow: none;\n",
              "  }\n",
              "\n",
              "  .colab-df-spinner {\n",
              "    border: 2px solid var(--fill-color);\n",
              "    border-color: transparent;\n",
              "    border-bottom-color: var(--fill-color);\n",
              "    animation:\n",
              "      spin 1s steps(1) infinite;\n",
              "  }\n",
              "\n",
              "  @keyframes spin {\n",
              "    0% {\n",
              "      border-color: transparent;\n",
              "      border-bottom-color: var(--fill-color);\n",
              "      border-left-color: var(--fill-color);\n",
              "    }\n",
              "    20% {\n",
              "      border-color: transparent;\n",
              "      border-left-color: var(--fill-color);\n",
              "      border-top-color: var(--fill-color);\n",
              "    }\n",
              "    30% {\n",
              "      border-color: transparent;\n",
              "      border-left-color: var(--fill-color);\n",
              "      border-top-color: var(--fill-color);\n",
              "      border-right-color: var(--fill-color);\n",
              "    }\n",
              "    40% {\n",
              "      border-color: transparent;\n",
              "      border-right-color: var(--fill-color);\n",
              "      border-top-color: var(--fill-color);\n",
              "    }\n",
              "    60% {\n",
              "      border-color: transparent;\n",
              "      border-right-color: var(--fill-color);\n",
              "    }\n",
              "    80% {\n",
              "      border-color: transparent;\n",
              "      border-right-color: var(--fill-color);\n",
              "      border-bottom-color: var(--fill-color);\n",
              "    }\n",
              "    90% {\n",
              "      border-color: transparent;\n",
              "      border-bottom-color: var(--fill-color);\n",
              "    }\n",
              "  }\n",
              "</style>\n",
              "\n",
              "  <script>\n",
              "    async function quickchart(key) {\n",
              "      const quickchartButtonEl =\n",
              "        document.querySelector('#' + key + ' button');\n",
              "      quickchartButtonEl.disabled = true;  // To prevent multiple clicks.\n",
              "      quickchartButtonEl.classList.add('colab-df-spinner');\n",
              "      try {\n",
              "        const charts = await google.colab.kernel.invokeFunction(\n",
              "            'suggestCharts', [key], {});\n",
              "      } catch (error) {\n",
              "        console.error('Error during call to suggestCharts:', error);\n",
              "      }\n",
              "      quickchartButtonEl.classList.remove('colab-df-spinner');\n",
              "      quickchartButtonEl.classList.add('colab-df-quickchart-complete');\n",
              "    }\n",
              "    (() => {\n",
              "      let quickchartButtonEl =\n",
              "        document.querySelector('#df-437def80-69e0-4ac8-a9d2-c47d21ac5414 button');\n",
              "      quickchartButtonEl.style.display =\n",
              "        google.colab.kernel.accessAllowed ? 'block' : 'none';\n",
              "    })();\n",
              "  </script>\n",
              "</div>\n",
              "\n",
              "    </div>\n",
              "  </div>\n"
            ],
            "application/vnd.google.colaboratory.intrinsic+json": {
              "type": "dataframe",
              "summary": "{\n  \"name\": \"df1\",\n  \"rows\": 8,\n  \"fields\": [\n    {\n      \"column\": \"x\",\n      \"properties\": {\n        \"dtype\": \"number\",\n        \"std\": 41.04924476010393,\n        \"min\": 16.76514203911679,\n        \"max\": 142.0,\n        \"num_unique_values\": 8,\n        \"samples\": [\n          54.26327323943662,\n          53.3333,\n          142.0\n        ],\n        \"semantic_type\": \"\",\n        \"description\": \"\"\n      }\n    },\n    {\n      \"column\": \"y\",\n      \"properties\": {\n        \"dtype\": \"number\",\n        \"std\": 45.03550360591345,\n        \"min\": 2.9487,\n        \"max\": 142.0,\n        \"num_unique_values\": 8,\n        \"samples\": [\n          47.832252816901416,\n          46.0256,\n          142.0\n        ],\n        \"semantic_type\": \"\",\n        \"description\": \"\"\n      }\n    }\n  ]\n}"
            }
          },
          "metadata": {},
          "execution_count": 32
        }
      ],
      "source": [
        "# write your code here\n",
        "\n",
        "#load in the data\n",
        "df1 = pd.read_csv(ds1)\n",
        "\n",
        "\n",
        "#show first few rows\n",
        "df1.head()\n",
        "\n",
        "#show summary\n",
        "df1.describe()\n"
      ]
    },
    {
      "cell_type": "code",
      "source": [
        "#select just those rows where the value of x and y is over 50\n",
        "x50 = df1['x'] > 50\n",
        "y50 = df1['y'] > 50\n",
        "\n",
        "\n",
        "df1_50 =df1[x50 & y50]\n",
        "\n",
        "print(df1_50)\n",
        "print(df1_50.shape)\n",
        "\n",
        "\n",
        "\n",
        "#print(x50 & y50)\n",
        "\n",
        "\n",
        "\n",
        "\n",
        "#select the column 'x' and create a series\n",
        "x_series =df1['x']\n",
        "print(x_series)"
      ],
      "metadata": {
        "id": "8zy4bAxiU7q0",
        "outputId": "69f1fe4b-c91b-4ff5-e266-fd7867e3997e",
        "colab": {
          "base_uri": "https://localhost:8080/"
        }
      },
      "execution_count": 34,
      "outputs": [
        {
          "output_type": "stream",
          "name": "stdout",
          "text": [
            "          x        y\n",
            "0   55.3846  97.1795\n",
            "1   51.5385  96.0256\n",
            "22  53.0769  55.6410\n",
            "23  56.6667  56.0256\n",
            "24  59.2308  57.9487\n",
            "25  61.2821  62.1795\n",
            "26  61.5385  66.4103\n",
            "27  61.7949  69.1026\n",
            "28  57.4359  55.2564\n",
            "60  70.5128  53.7180\n",
            "61  71.5385  60.6410\n",
            "62  71.5385  64.4872\n",
            "63  69.4872  69.4872\n",
            "67  53.0769  85.2564\n",
            "68  55.3846  86.0256\n",
            "69  56.6667  86.0256\n",
            "70  56.1538  82.9487\n",
            "71  53.8462  80.6410\n",
            "72  51.2821  78.7180\n",
            "78  57.9487  99.4872\n",
            "79  61.7949  99.1026\n",
            "80  64.8718  97.5641\n",
            "81  68.4615  94.1026\n",
            "82  70.7692  91.0256\n",
            "83  72.0513  86.4103\n",
            "84  73.8462  83.3333\n",
            "85  75.1282  79.1026\n",
            "86  76.6667  75.2564\n",
            "87  77.6923  71.4103\n",
            "88  79.7436  66.7949\n",
            "89  81.7949  60.2564\n",
            "90  83.3333  55.2564\n",
            "91  85.1282  51.4103\n",
            "(33, 2)\n",
            "0      55.3846\n",
            "1      51.5385\n",
            "2      46.1538\n",
            "3      42.8205\n",
            "4      40.7692\n",
            "        ...   \n",
            "137    39.4872\n",
            "138    91.2821\n",
            "139    50.0000\n",
            "140    47.9487\n",
            "141    44.1026\n",
            "Name: x, Length: 142, dtype: float64\n"
          ]
        }
      ]
    },
    {
      "cell_type": "code",
      "source": [
        "plt.figure()\n",
        "plt.plot(x_series, marker='0')\n"
      ],
      "metadata": {
        "id": "HEOJXpN7XEGP"
      },
      "execution_count": null,
      "outputs": []
    },
    {
      "cell_type": "markdown",
      "metadata": {
        "id": "c06xPSy8-axJ"
      },
      "source": [
        "## Checkpoint\n",
        "\n",
        "Congratulations! you have finished the required task for Week 2. Since you got this empty (without your code and output) notebook by downloading from iLearn, place this notebook (Workshop Week 2.ipynb) into your local copy of your Github repository (e.g. practical-workshops-sonitsingh)and commit your work with a suitable commit message and push your changes back to your Github repository. Show your tutor your updated Github repository to get your checkpoint mark."
      ]
    },
    {
      "cell_type": "markdown",
      "metadata": {
        "id": "FODLTRaR-axJ"
      },
      "source": [
        "# Further Practice\n",
        "\n",
        "If you finish this task you can practice more with pandas data frames by following the examples in the text, section 2.6.  The CSV file that they use in that section is available in the `files` directory of this repository as `educ_figdp_1_Data.csv`.   "
      ]
    },
    {
      "cell_type": "code",
      "execution_count": null,
      "metadata": {
        "id": "_0RthE3E-axJ"
      },
      "outputs": [],
      "source": [
        "edufile = 'files/educ_figdp_1_Data.csv'"
      ]
    }
  ],
  "metadata": {
    "kernelspec": {
      "display_name": "Python 3",
      "language": "python",
      "name": "python3"
    },
    "language_info": {
      "codemirror_mode": {
        "name": "ipython",
        "version": 3
      },
      "file_extension": ".py",
      "mimetype": "text/x-python",
      "name": "python",
      "nbconvert_exporter": "python",
      "pygments_lexer": "ipython3",
      "version": "3.7.3"
    },
    "colab": {
      "provenance": [],
      "include_colab_link": true
    }
  },
  "nbformat": 4,
  "nbformat_minor": 0
}